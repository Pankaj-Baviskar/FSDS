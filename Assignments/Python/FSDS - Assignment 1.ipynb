{
 "cells": [
  {
   "cell_type": "markdown",
   "id": "02b78a86",
   "metadata": {},
   "source": [
    "<p><center><h1 style=\"color:red;\"> PYTHON ASSIGNMENT 1 </h1></center></p>"
   ]
  },
  {
   "cell_type": "markdown",
   "id": "85cb357a",
   "metadata": {},
   "source": [
    "<p><h3 style=\"color:blue;\">Q.1 In the below elements which of them are values or an expression?</h3></p>"
   ]
  },
  {
   "cell_type": "markdown",
   "id": "9379cec3",
   "metadata": {},
   "source": [
    "<p><h3 style=\"color:blue;\">* , 'hello'  ,   -87.8   ,   -   ,    /   ,   +   ,   6</h3></p>"
   ]
  },
  {
   "cell_type": "markdown",
   "id": "94b0e6c8",
   "metadata": {},
   "source": [
    "<p><h3 style=\"color:green;\">Ans-:</h3></p>"
   ]
  },
  {
   "cell_type": "markdown",
   "id": "82973f63",
   "metadata": {},
   "source": [
    "Value -: 'hello' , -87.8 , 6\n",
    "Expression -: - , / , +"
   ]
  },
  {
   "cell_type": "markdown",
   "id": "59e716f2",
   "metadata": {},
   "source": [
    "<p><h3 style=\"color:blue;\">Q.2 What is the difference between string and variable?</h3></p>"
   ]
  },
  {
   "cell_type": "markdown",
   "id": "a972cfe8",
   "metadata": {},
   "source": [
    "The main difference is string contains character or numerical values in single or double quotes and variable is entity which holds data such as strings and numbers for processing it. \n",
    "ex - abc = \"city\"\n",
    "in above example variable abc is holding \"city\" call as string."
   ]
  },
  {
   "cell_type": "markdown",
   "id": "756e4113",
   "metadata": {},
   "source": [
    "<p><h3 style=\"color:blue;\">Q.3 Describe three different data types.</h3></p>"
   ]
  },
  {
   "cell_type": "markdown",
   "id": "a5e1fae7",
   "metadata": {},
   "source": [
    "1. Int - this data type contains positive or negative whole numbers, their is no provision of how long an interger value can be."
   ]
  },
  {
   "cell_type": "markdown",
   "id": "d5bcc883",
   "metadata": {},
   "source": [
    "Ex-: a = 20\n"
   ]
  },
  {
   "cell_type": "markdown",
   "id": "0977b7bd",
   "metadata": {},
   "source": [
    "2. Dict - Dictionary is an unordered collection of key-value pairs.\n",
    "For creating dictionary element we must use braces {}."
   ]
  },
  {
   "cell_type": "markdown",
   "id": "ad65a631",
   "metadata": {},
   "source": [
    "Ex-: abc = {'name':'raman', 'age':36}"
   ]
  },
  {
   "cell_type": "markdown",
   "id": "09f63e94",
   "metadata": {},
   "source": [
    "Output-: {'name': 'raman', 'age': 36}"
   ]
  },
  {
   "cell_type": "markdown",
   "id": "b405bfc5",
   "metadata": {},
   "source": [
    "In above example we have created dictionary name as abc and keys are 'name' and 'age', we can access their values by calling it key as abc['name']"
   ]
  },
  {
   "cell_type": "markdown",
   "id": "9f85cd8c",
   "metadata": {},
   "source": [
    "3. Complex- we can define complex number as 5+8j where 5 is the real part and 8 is the imaginary part of complex number."
   ]
  },
  {
   "cell_type": "markdown",
   "id": "c17379e9",
   "metadata": {},
   "source": [
    "Ex -: a = 6 + 9j"
   ]
  },
  {
   "cell_type": "markdown",
   "id": "a2c9420d",
   "metadata": {},
   "source": [
    "<p><h3 style=\"color:blue;\">Q.4 What is an expression made up of? What do all expressions do?</h3></p>"
   ]
  },
  {
   "cell_type": "markdown",
   "id": "841a4a6f",
   "metadata": {},
   "source": [
    "Expression is a collection of various operators, variables and constants. Their are many expression available in python programming langauge. like floating, integral, logical, relational etc.\n",
    "some of them are explain below\n",
    "floating expression- are which produce floating point results after executing explicit type of conversions. Ex - a + b, 9.45 where a and b are floating point variables.\n",
    "Relational expressions- its compare two numbers and results shows in true or false. this also called as boolean. "
   ]
  },
  {
   "cell_type": "markdown",
   "id": "4cf69aac",
   "metadata": {},
   "source": [
    "<p><h3 style=\"color:blue;\">Q.5 This assignment statements, like spam = 10. What is the difference between an\n",
    "expression and a statement?</h3></p>"
   ]
  },
  {
   "cell_type": "markdown",
   "id": "721c0755",
   "metadata": {},
   "source": [
    "An expression is any section of code that evaluates to a value. expression can be combination of variables, operations and values. While statement is called as which represent an action or command e.g. print or assignment statements. In above given example 10 is an expression which resolves to value 10."
   ]
  },
  {
   "cell_type": "markdown",
   "id": "fe244144",
   "metadata": {},
   "source": [
    "<p><h3 style=\"color:blue;\">Q.6 After running the following code, what does the variable bacon contain?</h3></p>"
   ]
  },
  {
   "cell_type": "markdown",
   "id": "fd2d83fa",
   "metadata": {},
   "source": [
    "<p><h3 style=\"color:blue;\">bacon = 22</h3></p>"
   ]
  },
  {
   "cell_type": "markdown",
   "id": "05310aa3",
   "metadata": {},
   "source": [
    "<p><h3 style=\"color:blue;\">bacon + 1</h3></p>\n"
   ]
  },
  {
   "cell_type": "code",
   "execution_count": 1,
   "id": "a6833a9a",
   "metadata": {},
   "outputs": [],
   "source": [
    "bacon = 22"
   ]
  },
  {
   "cell_type": "code",
   "execution_count": 2,
   "id": "861f9847",
   "metadata": {},
   "outputs": [
    {
     "data": {
      "text/plain": [
       "23"
      ]
     },
     "execution_count": 2,
     "metadata": {},
     "output_type": "execute_result"
    }
   ],
   "source": [
    "bacon+1"
   ]
  },
  {
   "cell_type": "markdown",
   "id": "1ee5042d",
   "metadata": {},
   "source": [
    "in given above code bacon variable is updating with new value by excecuting arithmetic opration on existing value. hence it is showing us 23 output of code as a result."
   ]
  },
  {
   "cell_type": "markdown",
   "id": "ceb7362d",
   "metadata": {},
   "source": [
    "<p><h3 style=\"color:blue;\">Q.7 What should the values of the following two terms be?</h3></p>"
   ]
  },
  {
   "cell_type": "markdown",
   "id": "479277ab",
   "metadata": {},
   "source": [
    "<p><h3 style=\"color:blue;\">'spam' + 'spamspam'</h3></p>"
   ]
  },
  {
   "cell_type": "markdown",
   "id": "c018f4a7",
   "metadata": {},
   "source": [
    "<p><h3 style=\"color:blue;\">'spam'*3</h3></p>"
   ]
  },
  {
   "cell_type": "code",
   "execution_count": 3,
   "id": "97ea0ee9",
   "metadata": {},
   "outputs": [
    {
     "data": {
      "text/plain": [
       "'spamspamspam'"
      ]
     },
     "execution_count": 3,
     "metadata": {},
     "output_type": "execute_result"
    }
   ],
   "source": [
    "'spam'+'spamspam'"
   ]
  },
  {
   "cell_type": "code",
   "execution_count": 4,
   "id": "9557d12f",
   "metadata": {},
   "outputs": [
    {
     "data": {
      "text/plain": [
       "'spamspamspam'"
      ]
     },
     "execution_count": 4,
     "metadata": {},
     "output_type": "execute_result"
    }
   ],
   "source": [
    "'spam'*3"
   ]
  },
  {
   "cell_type": "markdown",
   "id": "eb95a69a",
   "metadata": {},
   "source": [
    "### From above both output we can see that both output are same."
   ]
  },
  {
   "cell_type": "markdown",
   "id": "e0f346c3",
   "metadata": {},
   "source": [
    "<p><h3 style=\"color:blue;\">Q.8 Why is eggs a valid variable name while 100 is invalid?</h3></p>"
   ]
  },
  {
   "cell_type": "markdown",
   "id": "ac352a92",
   "metadata": {},
   "source": [
    "In python programming language, for creating variable their are strict rules. so if we are creating variable then variable must start with a letter or the underscore.variable name shouldn't start with number."
   ]
  },
  {
   "cell_type": "markdown",
   "id": "61dfa18e",
   "metadata": {},
   "source": [
    "so as per rule here eggs is a valid variable while 100 is invalid."
   ]
  },
  {
   "cell_type": "markdown",
   "id": "007dfb59",
   "metadata": {},
   "source": [
    "<p><h3 style=\"color:blue;\">Q.9 What three functions can be used to get the integer, floating-point number, or string versions of a value?</h3></p>"
   ]
  },
  {
   "cell_type": "markdown",
   "id": "0325b461",
   "metadata": {},
   "source": [
    "Their are 3 seperate functions available in python programming for accessing values of intger, floating-point and string. For integer int(), for floating values float(), for string str()."
   ]
  },
  {
   "cell_type": "markdown",
   "id": "a2f8ef04",
   "metadata": {},
   "source": [
    "<p><h3 style=\"color:blue;\">Q.10 Why does this expression cause an error? How can you fix it?</h3></p>"
   ]
  },
  {
   "cell_type": "markdown",
   "id": "6f8a01af",
   "metadata": {},
   "source": [
    "<p><h3 style=\"color:blue;\">'I have eaten' + 99 + 'burritos.'</h3></p>"
   ]
  },
  {
   "cell_type": "markdown",
   "id": "19175c4a",
   "metadata": {},
   "source": [
    "In this above given code we are trying to concatenate integer value with string datatype.but this code will not executed because python programming language is not allowing for such operations. hence it will show us error after executing code.\n"
   ]
  },
  {
   "cell_type": "markdown",
   "id": "a11ac821",
   "metadata": {},
   "source": [
    "If we wants to concatenate int type of value with string data type then first we need to do type casting of int data type. "
   ]
  },
  {
   "cell_type": "code",
   "execution_count": 5,
   "id": "2e6ec595",
   "metadata": {},
   "outputs": [
    {
     "data": {
      "text/plain": [
       "'I have eaten 99 burritos'"
      ]
     },
     "execution_count": 5,
     "metadata": {},
     "output_type": "execute_result"
    }
   ],
   "source": [
    "\"I have eaten \" + str(99) + \" burritos\""
   ]
  },
  {
   "cell_type": "code",
   "execution_count": null,
   "id": "892bd64b",
   "metadata": {},
   "outputs": [],
   "source": []
  }
 ],
 "metadata": {
  "kernelspec": {
   "display_name": "Python 3",
   "language": "python",
   "name": "python3"
  },
  "language_info": {
   "codemirror_mode": {
    "name": "ipython",
    "version": 3
   },
   "file_extension": ".py",
   "mimetype": "text/x-python",
   "name": "python",
   "nbconvert_exporter": "python",
   "pygments_lexer": "ipython3",
   "version": "3.8.8"
  }
 },
 "nbformat": 4,
 "nbformat_minor": 5
}
